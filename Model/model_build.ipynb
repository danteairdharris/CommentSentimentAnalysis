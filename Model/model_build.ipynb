{
 "cells": [
  {
   "cell_type": "code",
   "execution_count": 1,
   "id": "e71e9a60",
   "metadata": {},
   "outputs": [
    {
     "name": "stdout",
     "output_type": "stream",
     "text": [
      "Requirement already satisfied: tqdm in c:\\anaconda\\lib\\site-packages (4.59.0)\n"
     ]
    }
   ],
   "source": [
    "!pip install tqdm"
   ]
  },
  {
   "cell_type": "markdown",
   "id": "55aa3ee6",
   "metadata": {},
   "source": [
    "## Cleaning IMDB reviews "
   ]
  },
  {
   "cell_type": "code",
   "execution_count": 50,
   "id": "819408f6",
   "metadata": {},
   "outputs": [],
   "source": [
    "import pandas as pd\n",
    "import numpy as np\n",
    "import tensorflow_hub as hub\n",
    "import tensorflow_text\n",
    "import tensorflow as tf\n",
    "from tqdm import tqdm\n",
    "import matplotlib.pyplot as plt\n",
    "\n",
    "def clean_tags(string):\n",
    "    tags = [\n",
    "        '<br />', '<br />'\n",
    "    ]\n",
    "    for tag in tags:\n",
    "        if tag in string:\n",
    "            string = string.replace(tag, '')\n",
    "    return string\n",
    "\n",
    "def count_words(string):\n",
    "    words = string.split(' ')\n",
    "    words = len(words)\n",
    "    return words\n",
    "\n",
    "def clean_str(string):\n",
    "    return string.replace('\\\\', '')\n",
    "    "
   ]
  },
  {
   "cell_type": "code",
   "execution_count": 3,
   "id": "75136636",
   "metadata": {
    "scrolled": true
   },
   "outputs": [
    {
     "data": {
      "text/html": [
       "<div>\n",
       "<style scoped>\n",
       "    .dataframe tbody tr th:only-of-type {\n",
       "        vertical-align: middle;\n",
       "    }\n",
       "\n",
       "    .dataframe tbody tr th {\n",
       "        vertical-align: top;\n",
       "    }\n",
       "\n",
       "    .dataframe thead th {\n",
       "        text-align: right;\n",
       "    }\n",
       "</style>\n",
       "<table border=\"1\" class=\"dataframe\">\n",
       "  <thead>\n",
       "    <tr style=\"text-align: right;\">\n",
       "      <th></th>\n",
       "      <th>review</th>\n",
       "      <th>sentiment</th>\n",
       "    </tr>\n",
       "  </thead>\n",
       "  <tbody>\n",
       "    <tr>\n",
       "      <th>0</th>\n",
       "      <td>One of the other reviewers has mentioned that ...</td>\n",
       "      <td>positive</td>\n",
       "    </tr>\n",
       "    <tr>\n",
       "      <th>1</th>\n",
       "      <td>A wonderful little production. The filming tec...</td>\n",
       "      <td>positive</td>\n",
       "    </tr>\n",
       "    <tr>\n",
       "      <th>2</th>\n",
       "      <td>I thought this was a wonderful way to spend ti...</td>\n",
       "      <td>positive</td>\n",
       "    </tr>\n",
       "    <tr>\n",
       "      <th>3</th>\n",
       "      <td>Basically there's a family where a little boy ...</td>\n",
       "      <td>negative</td>\n",
       "    </tr>\n",
       "    <tr>\n",
       "      <th>4</th>\n",
       "      <td>Petter Mattei's \"Love in the Time of Money\" is...</td>\n",
       "      <td>positive</td>\n",
       "    </tr>\n",
       "    <tr>\n",
       "      <th>...</th>\n",
       "      <td>...</td>\n",
       "      <td>...</td>\n",
       "    </tr>\n",
       "    <tr>\n",
       "      <th>49995</th>\n",
       "      <td>I thought this movie did a down right good job...</td>\n",
       "      <td>positive</td>\n",
       "    </tr>\n",
       "    <tr>\n",
       "      <th>49996</th>\n",
       "      <td>Bad plot, bad dialogue, bad acting, idiotic di...</td>\n",
       "      <td>negative</td>\n",
       "    </tr>\n",
       "    <tr>\n",
       "      <th>49997</th>\n",
       "      <td>I am a Catholic taught in parochial elementary...</td>\n",
       "      <td>negative</td>\n",
       "    </tr>\n",
       "    <tr>\n",
       "      <th>49998</th>\n",
       "      <td>I'm going to have to disagree with the previou...</td>\n",
       "      <td>negative</td>\n",
       "    </tr>\n",
       "    <tr>\n",
       "      <th>49999</th>\n",
       "      <td>No one expects the Star Trek movies to be high...</td>\n",
       "      <td>negative</td>\n",
       "    </tr>\n",
       "  </tbody>\n",
       "</table>\n",
       "<p>50000 rows × 2 columns</p>\n",
       "</div>"
      ],
      "text/plain": [
       "                                                  review sentiment\n",
       "0      One of the other reviewers has mentioned that ...  positive\n",
       "1      A wonderful little production. The filming tec...  positive\n",
       "2      I thought this was a wonderful way to spend ti...  positive\n",
       "3      Basically there's a family where a little boy ...  negative\n",
       "4      Petter Mattei's \"Love in the Time of Money\" is...  positive\n",
       "...                                                  ...       ...\n",
       "49995  I thought this movie did a down right good job...  positive\n",
       "49996  Bad plot, bad dialogue, bad acting, idiotic di...  negative\n",
       "49997  I am a Catholic taught in parochial elementary...  negative\n",
       "49998  I'm going to have to disagree with the previou...  negative\n",
       "49999  No one expects the Star Trek movies to be high...  negative\n",
       "\n",
       "[50000 rows x 2 columns]"
      ]
     },
     "execution_count": 3,
     "metadata": {},
     "output_type": "execute_result"
    }
   ],
   "source": [
    "df = pd.read_csv('../Data/IMDB Dataset.csv')\n",
    "df['review'] = df['review'].apply(lambda x: clean_tags(x))\n",
    "df['review'] = df['review'].apply(lambda x: clean_str(x))\n",
    "# df['words'] = df['review'].apply(lambda x: count_words(x))\n",
    "\n",
    "df"
   ]
  },
  {
   "cell_type": "markdown",
   "id": "5aede85a",
   "metadata": {},
   "source": [
    "## Data Preprocessing"
   ]
  },
  {
   "cell_type": "code",
   "execution_count": 4,
   "id": "ee1327e5",
   "metadata": {},
   "outputs": [],
   "source": [
    "from sklearn.preprocessing import OneHotEncoder\n",
    "\n",
    "## load universal sentence encoder from tf hub\n",
    "use = hub.load(\"https://tfhub.dev/google/universal-sentence-encoder-multilingual-large/3\")\n",
    "\n",
    "## encode labels with one hot encoder\n",
    "labels_onehot = OneHotEncoder(sparse=False).fit_transform(\n",
    "    df.sentiment.to_numpy().reshape(-1,1))\n"
   ]
  },
  {
   "cell_type": "code",
   "execution_count": 7,
   "id": "babf28c0",
   "metadata": {},
   "outputs": [
    {
     "name": "stderr",
     "output_type": "stream",
     "text": [
      "100%|████████████████████████████████████████████████████████████████████████████| 40000/40000 [55:54<00:00, 11.92it/s]\n",
      "100%|████████████████████████████████████████████████████████████████████████████| 10000/10000 [14:46<00:00, 11.28it/s]"
     ]
    },
    {
     "name": "stdout",
     "output_type": "stream",
     "text": [
      "(40000, 512) (10000, 512)\n"
     ]
    },
    {
     "name": "stderr",
     "output_type": "stream",
     "text": [
      "\n"
     ]
    }
   ],
   "source": [
    "from sklearn.model_selection import train_test_split\n",
    "\n",
    "## split into train and test sets \n",
    "RANDOM_SEED = 42\n",
    "train_reviews, test_reviews, train_labels, test_labels = train_test_split(\n",
    "    df.review,\n",
    "    labels_onehot, \n",
    "    test_size=.2,\n",
    "    random_state=RANDOM_SEED\n",
    ") \n",
    "\n",
    "## convert train reviews to embed vector\n",
    "train_x = []\n",
    "for i in tqdm(train_reviews):\n",
    "    emb = use(i)\n",
    "    review_emb = tf.reshape(emb, [-1]).numpy()\n",
    "    train_x.append(review_emb)\n",
    "    \n",
    "train_x = np.array(train_x)\n",
    "\n",
    "## convert test reviews to embed vector\n",
    "test_x = []\n",
    "for i in tqdm(test_reviews):\n",
    "    emb = use(i)\n",
    "    review_emb = tf.reshape(emb, [-1]).numpy()\n",
    "    test_x.append(review_emb)\n",
    "    \n",
    "test_x = np.array(test_x)\n",
    "\n",
    "print(train_x.shape, test_x.shape)\n"
   ]
  },
  {
   "cell_type": "markdown",
   "id": "c77a96c4",
   "metadata": {},
   "source": [
    "## Model Architecture"
   ]
  },
  {
   "cell_type": "code",
   "execution_count": 61,
   "id": "35b065c4",
   "metadata": {},
   "outputs": [],
   "source": [
    "model = tf.keras.Sequential()\n",
    "model.add(tf.keras.layers.Dense(units=256, activation='relu'))\n",
    "model.add(tf.keras.layers.Dropout(rate=0.5))\n",
    "model.add(tf.keras.layers.Dense(units=128, activation='relu'))\n",
    "model.add(tf.keras.layers.Dropout(rate=0.5))\n",
    "model.add(tf.keras.layers.Dense(units=2, activation='softmax'))\n",
    "\n",
    "model.compile(loss='categorical_crossentropy', optimizer=tf.keras.optimizers.Adam(0.001), metrics=['accuracy'] ) "
   ]
  },
  {
   "cell_type": "markdown",
   "id": "4c598e80",
   "metadata": {},
   "source": [
    "## Model Train and Save"
   ]
  },
  {
   "cell_type": "code",
   "execution_count": 62,
   "id": "33dc963a",
   "metadata": {},
   "outputs": [
    {
     "name": "stdout",
     "output_type": "stream",
     "text": [
      "Epoch 1/6\n",
      "2000/2000 [==============================] - 2s 690us/step - loss: 0.4315 - accuracy: 0.7998 - val_loss: 0.3857 - val_accuracy: 0.8286\n",
      "Epoch 2/6\n",
      "2000/2000 [==============================] - 1s 642us/step - loss: 0.3902 - accuracy: 0.8238 - val_loss: 0.3689 - val_accuracy: 0.8378\n",
      "Epoch 3/6\n",
      "2000/2000 [==============================] - 1s 650us/step - loss: 0.3786 - accuracy: 0.8322 - val_loss: 0.3656 - val_accuracy: 0.8339\n",
      "Epoch 4/6\n",
      "2000/2000 [==============================] - 1s 643us/step - loss: 0.3645 - accuracy: 0.8393 - val_loss: 0.3662 - val_accuracy: 0.8350\n",
      "Epoch 5/6\n",
      "2000/2000 [==============================] - 1s 653us/step - loss: 0.3544 - accuracy: 0.8445 - val_loss: 0.3612 - val_accuracy: 0.8382\n",
      "Epoch 6/6\n",
      "2000/2000 [==============================] - 1s 648us/step - loss: 0.3426 - accuracy: 0.8514 - val_loss: 0.3666 - val_accuracy: 0.8380\n"
     ]
    },
    {
     "data": {
      "image/png": "[encoded data removed]",
      "text/plain": [
       "<Figure size 576x576 with 2 Axes>"
      ]
     },
     "metadata": {
      "needs_background": "light"
     },
     "output_type": "display_data"
    },
    {
     "name": "stdout",
     "output_type": "stream",
     "text": [
      "INFO:tensorflow:Assets written to: saved_model/sentiment_analysis_model\\assets\n"
     ]
    },
    {
     "name": "stderr",
     "output_type": "stream",
     "text": [
      "INFO:tensorflow:Assets written to: saved_model/sentiment_analysis_model\\assets\n"
     ]
    }
   ],
   "source": [
    "epochs = 6\n",
    "history = model.fit(\n",
    "    train_x, train_labels,\n",
    "    epochs=epochs, \n",
    "    batch_size=16,\n",
    "    validation_split=0.2,\n",
    "    verbose=1,\n",
    "    shuffle=True\n",
    ")\n",
    "\n",
    "acc = history.history['accuracy']\n",
    "val_acc = history.history['val_accuracy']\n",
    "\n",
    "loss = history.history['loss']\n",
    "val_loss = history.history['val_loss']\n",
    "\n",
    "epochs_range = range(epochs)\n",
    "\n",
    "plt.figure(figsize=(8, 8))\n",
    "plt.subplot(1, 2, 1)\n",
    "plt.plot(epochs_range, acc, label='Training Accuracy')\n",
    "plt.plot(epochs_range, val_acc, label='Validation Accuracy')\n",
    "plt.legend(loc='lower right')\n",
    "plt.title('Training and Validation Accuracy')\n",
    "\n",
    "plt.subplot(1, 2, 2)\n",
    "plt.plot(epochs_range, loss, label='Training Loss')\n",
    "plt.plot(epochs_range, val_loss, label='Validation Loss')\n",
    "plt.legend(loc='upper right')\n",
    "plt.title('Training and Validation Loss')\n",
    "plt.show() \n",
    "\n",
    "!mkdir saved_model\n",
    "model.save('saved_model/sentiment_analysis_model')"
   ]
  },
  {
   "cell_type": "markdown",
   "id": "8afb909c",
   "metadata": {},
   "source": [
    "## Model Evaluation \n",
    "### Performance:\n",
    "* validation set evaluation yielded 84% model accuracy"
   ]
  },
  {
   "cell_type": "code",
   "execution_count": 63,
   "id": "f249b984",
   "metadata": {},
   "outputs": [
    {
     "name": "stdout",
     "output_type": "stream",
     "text": [
      "313/313 [==============================] - 0s 410us/step - loss: 0.3624 - accuracy: 0.8406\n"
     ]
    },
    {
     "data": {
      "text/plain": [
       "[0.3623659312725067, 0.8406000137329102]"
      ]
     },
     "execution_count": 63,
     "metadata": {},
     "output_type": "execute_result"
    }
   ],
   "source": [
    "model = tf.keras.models.load_model('./saved_model/sentiment_analysis_model')\n",
    "model.evaluate(test_x, test_labels)"
   ]
  },
  {
   "cell_type": "markdown",
   "id": "69c12f98",
   "metadata": {},
   "source": [
    "## Model Predictions\n",
    "### Performance:\n",
    "* Predicted correct sentiment in 5/5 of the first 5 test_reviews.\n",
    "* The second test review left the model quite confused, but still managed a correct label prediction. "
   ]
  },
  {
   "cell_type": "code",
   "execution_count": 64,
   "id": "44053493",
   "metadata": {},
   "outputs": [
    {
     "name": "stdout",
     "output_type": "stream",
     "text": [
      "I really liked this Summerslam due to the look of the arena, the curtains and just the look overall was interesting to me for some reason. Anyways, this could have been one of the best Summerslam's ever if the WWF didn't have Lex Luger in the main event against Yokozuna, now for it's time it was ok to have a huge fat man vs a strong man but I'm glad times have changed. It was a terrible main event just like every match Luger is in is terrible. Other matches on the card were Razor Ramon vs Ted Dibiase, Steiner Brothers vs Heavenly Bodies, Shawn Michaels vs Curt Hening, this was the event where Shawn named his big monster of a body guard Diesel, IRS vs 1-2-3 Kid, Bret Hart first takes on Doink then takes on Jerry Lawler and stuff with the Harts and Lawler was always very interesting, then Ludvig Borga destroyed Marty Jannetty, Undertaker took on Giant Gonzalez in another terrible match, The Smoking Gunns and Tatanka took on Bam Bam Bigelow and the Headshrinkers, and Yokozuna defended the world title against Lex Luger this match was boring and it has a terrible ending. However it deserves 8/10\n",
      "\n",
      "[[0.1799795 0.8200205]]\n",
      "positive\n",
      "\n",
      "Not many television shows appeal to quite as many different kinds of fans like Farscape does...I know youngsters and 30/40+ years old;fans both Male and Female in as many different countries as you can think of that just adore this T.V miniseries. It has elements that can be found in almost every other show on T.V, character driven drama that could be from an Australian soap opera; yet in the same episode it has science fact & fiction that would give even the hardiest \"Trekkie\" a run for his money in the brainbender stakes! Wormhole theory, Time Travel in true equational form...Magnificent. It embraces cultures from all over the map as the possibilities are endless having multiple stars and therefore thousands of planets to choose from.With such a broad scope; it would be expected that nothing would be able to keep up the illusion for long, but here is where \"Farscape\" really comes into it's own element...It succeeds where all others have failed, especially the likes of Star Trek (a universe with practically zero Kaos element!) They ran out of ideas pretty quickly + kept rehashing them! Over the course of 4 seasons they manage to keep the audience's attention using good continuity and constant character evolution with multiple threads to every episode with unique personal touches to camera that are specific to certain character groups within the whole. This structure allows for an extremely large area of subject matter as loyalties are forged and broken in many ways on many many issues. I happened to see the pilot (Premiere) in passing and just had to keep tuning in after that to see if Crichton would ever \"Get the girl\", after seeing them all on television I was delighted to see them available on DVD & I have to admit that it was the only thing that kept me sane whilst I had to do a 12 hour night shift and developed chronic insomnia...Farscape was the only thing to get me through those extremely long nights...Do yourself a favour; Watch the pilot and see what I mean...Farscape Comet\n",
      "\n",
      "[[0.43414757 0.56585246]]\n",
      "positive\n",
      "\n",
      "The film quickly gets to a major chase scene with ever increasing destruction. The first really bad thing is the guy hijacking Steven Seagal would have been beaten to pulp by Seagal's driving, but that probably would have ended the whole premise for the movie.It seems like they decided to make all kinds of changes in the movie plot, so just plan to enjoy the action, and do not expect a coherent plot. Turn any sense of logic you may have, it will reduce your chance of getting a headache.I does give me some hope that Steven Seagal is trying to move back towards the type of characters he portrayed in his more popular movies.\n",
      "\n",
      "[[0.9957113  0.00428863]]\n",
      "negative\n",
      "\n",
      "Jane Austen would definitely approve of this one!Gwyneth Paltrow does an awesome job capturing the attitude of Emma. She is funny without being excessively silly, yet elegant. She puts on a very convincing British accent (not being British myself, maybe I'm not the best judge, but she fooled me...she was also excellent in \"Sliding Doors\"...I sometimes forget she's American ~!). Also brilliant are Jeremy Northam and Sophie Thompson and Phyllida Law (Emma Thompson's sister and mother) as the Bates women. They nearly steal the show...and Ms. Law doesn't even have any lines!Highly recommended.\n",
      "\n",
      "[[0.01040982 0.9895902 ]]\n",
      "positive\n",
      "\n",
      "Expectations were somewhat high for me when I went to see this movie, after all I thought Steve Carell could do no wrong coming off of great movies like Anchorman, The 40 Year-Old Virgin, and Little Miss Sunshine. Boy, was I wrong.I'll start with what is right with this movie: at certain points Steve Carell is allowed to be Steve Carell. There are a handful of moments in the film that made me laugh, and it's due almost entirely to him being given the wiggle-room to do his thing. He's an undoubtedly talented individual, and it's a shame that he signed on to what turned out to be, in my opinion, a total train-wreck.With that out of the way, I'll discuss what went horrifyingly wrong.The film begins with Dan Burns, a widower with three girls who is being considered for a nationally syndicated advice column. He prepares his girls for a family reunion, where his extended relatives gather for some time with each other.The family is high atop the list of things that make this an awful movie. No family behaves like this. It's almost as if they've been transported from Pleasantville or Leave it to Beaver. They are a caricature of what we think a family is when we're 7. It reaches the point where they become obnoxious and simply frustrating. Touch football, crossword puzzle competitions, family bowling, and talent shows ARE NOT HOW ACTUAL PEOPLE BEHAVE. It's almost sickening.Another big flaw is the woman Carell is supposed to be falling for. Observing her in her first scene with Steve Carell is like watching a stroke victim trying to be rehabilitated. What I imagine is supposed to be unique and original in this woman comes off as mildly retarded.It makes me think that this movie is taking place on another planet. I left the theater wondering what I just saw. After thinking further, I don't think it was much.\n",
      "\n",
      "[[0.7512602 0.2487397]]\n",
      "negative\n",
      "\n"
     ]
    }
   ],
   "source": [
    "def get_sent(pred):\n",
    "    if np.argmax(pred) == 0:\n",
    "        return 'negative'\n",
    "    else: \n",
    "        return 'positive'\n",
    "    \n",
    "for i in range(0,5):\n",
    "    print(test_reviews.iloc[i]+'\\n')\n",
    "    label_pred = model.predict(test_x[i:i+1])\n",
    "    print(label_pred)\n",
    "    print(get_sent(label_pred)+'\\n')\n"
   ]
  }
 ],
 "metadata": {
  "kernelspec": {
   "display_name": "Python 3",
   "language": "python",
   "name": "python3"
  },
  "language_info": {
   "codemirror_mode": {
    "name": "ipython",
    "version": 3
   },
   "file_extension": ".py",
   "mimetype": "text/x-python",
   "name": "python",
   "nbconvert_exporter": "python",
   "pygments_lexer": "ipython3",
   "version": "3.8.8"
  }
 },
 "nbformat": 4,
 "nbformat_minor": 5
}
