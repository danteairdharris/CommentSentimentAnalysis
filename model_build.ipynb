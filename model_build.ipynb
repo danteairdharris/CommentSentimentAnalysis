{
 "cells": [
  {
   "cell_type": "code",
   "execution_count": null,
   "id": "e71e9a60",
   "metadata": {},
   "outputs": [],
   "source": [
    "!pip install scikit-learn"
   ]
  },
  {
   "cell_type": "code",
   "execution_count": null,
   "id": "819408f6",
   "metadata": {},
   "outputs": [],
   "source": [
    "import pandas as pd\n",
    "import numpy as np\n",
    "from sklearn.model_selection import train_test_split\n",
    "from sklearn.feature_extraction.text import CountVectorizer\n",
    "from sklearn import svm\n",
    "\n",
    "class Review:\n",
    "    def __init__(self, text, sentiment):\n",
    "        self.text = text\n",
    "        self.sentiment = sentiment\n",
    "\n",
    "def clean_tags(string):\n",
    "    tags = [\n",
    "        '<br />', '<br />'\n",
    "    ]\n",
    "    for tag in tags:\n",
    "        if tag in string:\n",
    "            string = string.replace(tag, '')\n",
    "    return string\n",
    "\n",
    "def count_words(string):\n",
    "    words = string.split(' ')\n",
    "    words = len(words)\n",
    "    return words\n",
    "\n",
    "def clean_str(string):\n",
    "    return string.replace('\\\\', '')\n",
    "    "
   ]
  },
  {
   "cell_type": "code",
   "execution_count": null,
   "id": "75136636",
   "metadata": {
    "scrolled": true
   },
   "outputs": [],
   "source": [
    "df = pd.read_csv('./IMDB Dataset.csv')\n",
    "df['review'] = df['review'].apply(lambda x: clean_tags(x))\n",
    "df['review'] = df['review'].apply(lambda x: clean_str(x))\n",
    "df['words'] = df['review'].apply(lambda x: count_words(x))\n",
    "\n",
    "reviews = []\n",
    "for i in range(0,50000):\n",
    "    reviews.append(Review(df.iloc[i].review, df.iloc[i].sentiment))"
   ]
  },
  {
   "cell_type": "code",
   "execution_count": null,
   "id": "ee1327e5",
   "metadata": {},
   "outputs": [],
   "source": [
    "train, test = train_test_split(reviews, test_size=0.2, random_state=42)\n",
    "X_train = [x.text for x in train]\n",
    "y_train = [x.sentiment for x in train]\n",
    "X_test = [x.text for x in test]\n",
    "y_test = [x.sentiment for x in test]\n",
    "\n",
    "vectorizer = CountVectorizer()\n",
    "X_train_vectors = vectorizer.fit_transform(X_train)\n",
    "X_test_vectors = vectorizer.transform(X_test)\n",
    "\n",
    "clf_svm = svm.SVC(kernel='linear')\n",
    "clf_svm.fit(X_train_vectors, y_train)"
   ]
  },
  {
   "cell_type": "code",
   "execution_count": null,
   "id": "babf28c0",
   "metadata": {},
   "outputs": [],
   "source": []
  },
  {
   "cell_type": "code",
   "execution_count": null,
   "id": "35b065c4",
   "metadata": {},
   "outputs": [],
   "source": []
  }
 ],
 "metadata": {
  "kernelspec": {
   "display_name": "Python 3",
   "language": "python",
   "name": "python3"
  },
  "language_info": {
   "codemirror_mode": {
    "name": "ipython",
    "version": 3
   },
   "file_extension": ".py",
   "mimetype": "text/x-python",
   "name": "python",
   "nbconvert_exporter": "python",
   "pygments_lexer": "ipython3",
   "version": "3.8.8"
  }
 },
 "nbformat": 4,
 "nbformat_minor": 5
}
