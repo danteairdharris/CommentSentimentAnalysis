{
 "cells": [
  {
   "cell_type": "code",
   "execution_count": 36,
   "id": "932ba8ae",
   "metadata": {},
   "outputs": [
    {
     "name": "stdout",
     "output_type": "stream",
     "text": [
      "Collecting langdetect\n",
      "  Downloading langdetect-1.0.9.tar.gz (981 kB)\n",
      "Requirement already satisfied: six in c:\\anaconda\\lib\\site-packages (from langdetect) (1.15.0)\n",
      "Building wheels for collected packages: langdetect\n",
      "  Building wheel for langdetect (setup.py): started\n",
      "  Building wheel for langdetect (setup.py): finished with status 'done'\n",
      "  Created wheel for langdetect: filename=langdetect-1.0.9-py3-none-any.whl size=993221 sha256=2f7940f96b5385f21064200fd0c0239bce0c33af657ad1cf6482a0c103ecfabb\n",
      "  Stored in directory: c:\\users\\dante aird-harris\\appdata\\local\\pip\\cache\\wheels\\13\\c7\\b0\\79f66658626032e78fc1a83103690ef6797d551cb22e56e734\n",
      "Successfully built langdetect\n",
      "Installing collected packages: langdetect\n",
      "Successfully installed langdetect-1.0.9\n"
     ]
    }
   ],
   "source": [
    "!pip install langdetect"
   ]
  },
  {
   "cell_type": "code",
   "execution_count": 39,
   "id": "505175fa",
   "metadata": {},
   "outputs": [],
   "source": [
    "import pandas as pd\n",
    "from langdetect import detect"
   ]
  },
  {
   "cell_type": "code",
   "execution_count": 43,
   "id": "c4050ead",
   "metadata": {},
   "outputs": [],
   "source": [
    "def  to_num(string):\n",
    "    if 'K' in string:\n",
    "        return float(string.strip('K')) * 1000\n",
    "    elif 'M' in string:\n",
    "        return float(string.strip('M')) * 1000000\n",
    "    elif 'views' in string:\n",
    "        return int(string.split(' ')[0].replace(',',''))\n",
    "    else:\n",
    "        return float(string)\n",
    "    \n",
    "def clean_title(string):\n",
    "    if '(' in string:\n",
    "        string = string.split('(')[0]\n",
    "    if 'Trailer' in string:\n",
    "        string = string.replace('Trailer', '')\n",
    "    return string\n",
    "\n",
    "def lang(string):\n",
    "    try:\n",
    "        return detect(string)\n",
    "    except:\n",
    "        return 'Unknown'"
   ]
  },
  {
   "cell_type": "code",
   "execution_count": 50,
   "id": "33919df1",
   "metadata": {},
   "outputs": [],
   "source": [
    "df = pd.read_csv('./movie_trailer_comments.csv')\n",
    "df.drop('Unnamed: 0', axis=1, inplace=True)\n",
    "\n",
    "## Clean 'Title' String\n",
    "df['Title'] = df['Title'].apply(lambda x: clean_title(x))\n",
    "\n",
    "## Converting 'Views', 'Likes', and 'Dislikes' columns to numbers\n",
    "df['Likes'] = df['Likes'].apply(lambda x: to_num(x))\n",
    "df['Dislikes'] = df['Dislikes'].apply(lambda x: to_num(x))\n",
    "df['Views'] = df['Views'].apply(lambda x: to_num(x))\n",
    "\n",
    "## Feature engineering \n",
    "## Like/TotalRatings(Percentage of Positive Engagement) \n",
    "## Likes/Views(Percentage of Viewer Engagement)\n",
    "## Language(LangDetect Comment)\n",
    "## Comment Length(length of comment in characters)\n",
    "df['Like Ratio'] = df['Likes'] / (df['Dislikes'] + df['Likes'])\n",
    "df['Likes/Views'] = df['Likes'] / df['Views']\n",
    "df['Language'] = df['Comment'].apply(lambda x: lang(x))\n",
    "df['Comment Length'] = df['Comment'].apply(lambda x: len(x))\n",
    "df.head()\n",
    "\n",
    "df.to_csv('movie_trailer_comments_cleaned.csv')"
   ]
  }
 ],
 "metadata": {
  "kernelspec": {
   "display_name": "Python 3",
   "language": "python",
   "name": "python3"
  },
  "language_info": {
   "codemirror_mode": {
    "name": "ipython",
    "version": 3
   },
   "file_extension": ".py",
   "mimetype": "text/x-python",
   "name": "python",
   "nbconvert_exporter": "python",
   "pygments_lexer": "ipython3",
   "version": "3.8.8"
  }
 },
 "nbformat": 4,
 "nbformat_minor": 5
}
