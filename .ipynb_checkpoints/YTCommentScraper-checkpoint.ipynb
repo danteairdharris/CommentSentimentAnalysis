{
 "cells": [
  {
   "cell_type": "code",
   "execution_count": 1,
   "id": "27cd4f68",
   "metadata": {
    "scrolled": true
   },
   "outputs": [
    {
     "name": "stdout",
     "output_type": "stream",
     "text": [
      "Requirement already satisfied: selenium in c:\\anaconda\\lib\\site-packages (3.141.0)\n",
      "Requirement already satisfied: urllib3 in c:\\anaconda\\lib\\site-packages (from selenium) (1.26.4)\n"
     ]
    }
   ],
   "source": [
    "!pip install selenium"
   ]
  },
  {
   "cell_type": "code",
   "execution_count": 2,
   "id": "8d175279",
   "metadata": {},
   "outputs": [],
   "source": [
    "from selenium import webdriver\n",
    "import pandas as pd\n",
    "from selenium.webdriver.common.by import By \n",
    "from selenium.webdriver.support.ui import WebDriverWait \n",
    "from selenium.webdriver.support import expected_conditions as EC\n",
    "import time"
   ]
  },
  {
   "cell_type": "code",
   "execution_count": 3,
   "id": "c1a1ea7c",
   "metadata": {},
   "outputs": [],
   "source": [
    "driver = webdriver.Chrome() \n",
    "driver.get(\"https://www.youtube.com/results?search_query=ONE+media+movie+trailers&sp=EgIQAQ%253D%253D\")"
   ]
  },
  {
   "cell_type": "code",
   "execution_count": 4,
   "id": "3d721aef",
   "metadata": {},
   "outputs": [
    {
     "ename": "NameError",
     "evalue": "name 'i' is not defined",
     "output_type": "error",
     "traceback": [
      "\u001b[1;31m---------------------------------------------------------------------------\u001b[0m",
      "\u001b[1;31mNameError\u001b[0m                                 Traceback (most recent call last)",
      "\u001b[1;32m<ipython-input-4-a85ee8c4b289>\u001b[0m in \u001b[0;36m<module>\u001b[1;34m\u001b[0m\n\u001b[0;32m      3\u001b[0m \u001b[0mtitles\u001b[0m \u001b[1;33m=\u001b[0m \u001b[1;33m[\u001b[0m\u001b[1;33m]\u001b[0m\u001b[1;33m\u001b[0m\u001b[1;33m\u001b[0m\u001b[0m\n\u001b[0;32m      4\u001b[0m \u001b[1;32mfor\u001b[0m \u001b[0mlink\u001b[0m \u001b[1;32min\u001b[0m \u001b[0mvideos\u001b[0m\u001b[1;33m:\u001b[0m\u001b[1;33m\u001b[0m\u001b[1;33m\u001b[0m\u001b[0m\n\u001b[1;32m----> 5\u001b[1;33m     \u001b[0mtitles\u001b[0m\u001b[1;33m.\u001b[0m\u001b[0mappend\u001b[0m\u001b[1;33m(\u001b[0m\u001b[0mvideos\u001b[0m\u001b[1;33m[\u001b[0m\u001b[0mi\u001b[0m\u001b[1;33m]\u001b[0m\u001b[1;33m.\u001b[0m\u001b[0mtext\u001b[0m\u001b[1;33m)\u001b[0m\u001b[1;33m\u001b[0m\u001b[1;33m\u001b[0m\u001b[0m\n\u001b[0m\u001b[0;32m      6\u001b[0m     \u001b[0mlinks\u001b[0m\u001b[1;33m.\u001b[0m\u001b[0mappend\u001b[0m\u001b[1;33m(\u001b[0m\u001b[0mlink\u001b[0m\u001b[1;33m.\u001b[0m\u001b[0mget_attribute\u001b[0m\u001b[1;33m(\u001b[0m\u001b[1;34m'href'\u001b[0m\u001b[1;33m)\u001b[0m\u001b[1;33m)\u001b[0m\u001b[1;33m\u001b[0m\u001b[1;33m\u001b[0m\u001b[0m\n\u001b[0;32m      7\u001b[0m \u001b[1;33m\u001b[0m\u001b[0m\n",
      "\u001b[1;31mNameError\u001b[0m: name 'i' is not defined"
     ]
    }
   ],
   "source": [
    "videos = driver.find_elements_by_xpath('//*[@id=\"video-title\"]')\n",
    "links = []\n",
    "titles = []\n",
    "for i, link in enumerate(videos):\n",
    "    titles.append(videos[i].text)\n",
    "    links.append(link.get_attribute('href'))\n",
    "    \n",
    "print(len(links))"
   ]
  },
  {
   "cell_type": "code",
   "execution_count": null,
   "id": "e224c8ec",
   "metadata": {},
   "outputs": [],
   "source": [
    "wait = WebDriverWait(driver, 10)\n",
    "table = []\n",
    "for i, video in enumerate(links):\n",
    "    if i == 0:\n",
    "        continue\n",
    "    elif i == 4:\n",
    "        break\n",
    "    else:  \n",
    "        driver.get(video)\n",
    "        title = titles[i-1]\n",
    "#         title = driver.find_elements(By.TAG_NAME, 'h1')[2].text\n",
    "#         title = wait.until(EC.presence_of_element_located(\n",
    "#                            (By.CSS_SELECTOR,\"h1.title yt-formatted-string\"))).text\n",
    "        views = wait.until(EC.presence_of_element_located(\n",
    "                                         (By.CSS_SELECTOR,\"span.view-count\"))).text\n",
    "        likes = driver.find_elements_by_xpath('//yt-formatted-string[@id=\"text\"]')[8].text\n",
    "        dislikes = driver.find_elements_by_xpath('//yt-formatted-string[@id=\"text\"]')[9].text\n",
    "        \n",
    "#         print(title)\n",
    "#         print(views)\n",
    "#         print(likes)\n",
    "#         print(dislikes)\n",
    "        \n",
    "        ## Scrape (atmost)Top 50 comments from the current video\n",
    "        time.sleep(2)\n",
    "        driver.execute_script(\"window.scrollTo(0,Math.max(document.documentElement.scrollHeight,document.body.scrollHeight,document.documentElement.clientHeight))\")\n",
    "        time.sleep(4)\n",
    "        totalcomments = len(driver.find_elements_by_xpath(\"\"\"//*[@id=\"content-text\"]\"\"\"))\n",
    "#         print(totalcomments)\n",
    "        if totalcomments < 50:\n",
    "            index= totalcomments\n",
    "        else:\n",
    "            index= 50 \n",
    "        count = 0\n",
    "\n",
    "        while count < index: \n",
    "            try:\n",
    "                comment = driver.find_elements_by_xpath('//*[@id=\"content-text\"]')[count].text\n",
    "            except:\n",
    "                comment = \"\"\n",
    "             \n",
    "            data = {}\n",
    "            data['Title'] = title\n",
    "            data['Views'] = views\n",
    "            data['Likes'] = likes\n",
    "            data['Dislikes'] = dislikes\n",
    "            data['Comment'] = comment\n",
    "            count += 1\n",
    "            \n",
    "            print(data)\n",
    "            table.append(data)\n",
    "\n",
    "table"
   ]
  }
 ],
 "metadata": {
  "kernelspec": {
   "display_name": "Python 3",
   "language": "python",
   "name": "python3"
  },
  "language_info": {
   "codemirror_mode": {
    "name": "ipython",
    "version": 3
   },
   "file_extension": ".py",
   "mimetype": "text/x-python",
   "name": "python",
   "nbconvert_exporter": "python",
   "pygments_lexer": "ipython3",
   "version": "3.8.8"
  }
 },
 "nbformat": 4,
 "nbformat_minor": 5
}
